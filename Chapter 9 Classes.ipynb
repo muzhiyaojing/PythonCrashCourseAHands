{
 "cells": [
  {
   "cell_type": "markdown",
   "metadata": {},
   "source": [
    "# Class\n",
    "\n",
    "1. Write a class -- Define the general behavior that a whole category of objects can have. \n",
    "\n",
    "2. Create individual objects from the class, each object is automatically equipped with the general behavior, you can then give each object whatever unique traits you desire\n",
    "\n",
    "3. Making an object from a class is called instantiation, and you work with instances of class. "
   ]
  },
  {
   "cell_type": "markdown",
   "metadata": {},
   "source": [
    "# Creating and Using a class\n",
    "\n",
    "1. the __init__() method\n",
    "\n",
    "    a. A function that's part of a class is method. <br>\n",
    "    b. __init__() method is a special method Python runs automatically whenever we created a new instance based on the class. <br>\n",
    "    c. **self** parameter is requrired in the method definition, and it must come first before the other parameters.<br>\n",
    "    d. Every method call associated with a class automatically pass the self argument, which is reference to the instance itself. It gives the individual instance access to the attributes and methods in the class.<br>\n",
    "    e. self parameter will be passed automatically, so we don't need to pass any value for it. <br>\n",
    "    f. the __init__() method has no explicit return statement, but Python automatically returns an instance from the class.<br>\n",
    "    \n",
    "2. You can create multiple instances form a class, even though you pass the same parameter values\n",
    "\n",
    "3. Naming convention:Use capitalized name for class name, then lower case name for the instance name"
   ]
  },
  {
   "cell_type": "code",
   "execution_count": 4,
   "metadata": {},
   "outputs": [],
   "source": [
    "# Creating the dog class\n",
    "\n",
    "class Dog(): \n",
    "    \n",
    "    def  __init__(self, name, age):\n",
    "        self.name = name\n",
    "        self.age = age    # Any variable prefixed with self is available through any instance created from the class. \n",
    "                          # self.age = age takes the value stored in the parameter age and then assign it in the variable age\n",
    "                          # Variables that are accessible through instances are called attributes. \n",
    "    \n",
    "    def sit(self):\n",
    "        print(self.name.title() + \" is not sitting.\")\n",
    "    \n",
    "    def roll_over(self):\n",
    "        print(self.name.title() + \" rolled over!\")\n",
    "    "
   ]
  },
  {
   "cell_type": "code",
   "execution_count": 2,
   "metadata": {},
   "outputs": [
    {
     "name": "stdout",
     "output_type": "stream",
     "text": [
      "My dog's name is Willie.\n",
      "My dog is 6.\n"
     ]
    }
   ],
   "source": [
    "# Making an instance from a class\n",
    "#Accessing Attributes using dot notation\n",
    "\n",
    "my_dog = Dog('Willie',6)\n",
    "\n",
    "print(\"My dog's name is \"+my_dog.name.title()+\".\")\n",
    "print(\"My dog is \"+str(my_dog.age)+\".\")"
   ]
  },
  {
   "cell_type": "code",
   "execution_count": 5,
   "metadata": {},
   "outputs": [
    {
     "name": "stdout",
     "output_type": "stream",
     "text": [
      "Willie is not sitting.\n",
      "Willie rolled over!\n"
     ]
    }
   ],
   "source": [
    "# Calling methods using dot notation\n",
    "\n",
    "my_dog = Dog('Willie',6)\n",
    "\n",
    "my_dog.sit()\n",
    "my_dog.roll_over()"
   ]
  },
  {
   "cell_type": "markdown",
   "metadata": {},
   "source": [
    "#  Working with Classes and Instances\n",
    "\n",
    "1. Setting a default value for an attribute\n",
    "2. Modifying Attribute Values\n",
    "    a. Modifying an attribute's value directly. <br>\n",
    "    b. Modifying an attribute's value through a method. <br>\n",
    "    c. Incrementing an attribute's value through a method. <br>"
   ]
  },
  {
   "cell_type": "code",
   "execution_count": 8,
   "metadata": {},
   "outputs": [
    {
     "name": "stdout",
     "output_type": "stream",
     "text": [
      "2016 Audi A4\n"
     ]
    }
   ],
   "source": [
    "class Car():\n",
    "    \n",
    "    def __init__(self, make, model, year):\n",
    "        self.make = make\n",
    "        self.model = model\n",
    "        self.year = year\n",
    "    \n",
    "    def get_descriptive_name(self):\n",
    "        long_name = str(self.year)+\" \"+self.make+\" \"+self.model\n",
    "        \n",
    "        return long_name.title()\n",
    "\n",
    "# my_new_car = Car()  If attributes don't have default values, then you have to explicitly assign the value to it \n",
    "                    # when you create a new instance, otherwise, it will throw error saying that \n",
    "                    # \" __init__() missing 3 required positional arguments \"\n",
    "my_new_car = Car('audi','a4',2016)\n",
    "print(my_new_car.get_descriptive_name())"
   ]
  },
  {
   "cell_type": "code",
   "execution_count": 11,
   "metadata": {},
   "outputs": [
    {
     "name": "stdout",
     "output_type": "stream",
     "text": [
      "2016 Audi A4\n",
      "This car has 0.\n"
     ]
    }
   ],
   "source": [
    "# Setting a default value for an attribute\n",
    "class Car():\n",
    "    \n",
    "    #def __init__(self, make, model, year,odometer_reading): --You need to pass value for \n",
    "                                                # all the parameters being defined here, except for self\n",
    "                                                # Even the parameters with default value\n",
    "    def __init__(self, make, model, year):\n",
    "        self.make = make\n",
    "        self.model = model\n",
    "        self.year = year\n",
    "        self.odometer_reading = 0\n",
    "    \n",
    "    def get_descriptive_name(self):\n",
    "        long_name = str(self.year)+\" \"+self.make+\" \"+self.model\n",
    "        \n",
    "        return long_name.title()\n",
    "\n",
    "    def read_odometer(self):\n",
    "        print(\"This car has \"+str(self.odometer_reading)+\" miles on it.\")\n",
    "\n",
    "my_new_car = Car('audi','a4',2016)  \n",
    "print(my_new_car.get_descriptive_name())\n",
    "my_new_car.read_odometer()"
   ]
  },
  {
   "cell_type": "code",
   "execution_count": 13,
   "metadata": {},
   "outputs": [
    {
     "name": "stdout",
     "output_type": "stream",
     "text": [
      "This car has 23.\n",
      "This car has 0.\n"
     ]
    }
   ],
   "source": [
    "# Modifying an attribute's value directly\n",
    "# when you modify the attribute value, you are modify the attribute value for an instance, rather than the class\n",
    "\n",
    "my_new_car.odometer_reading = 23\n",
    "my_new_car.read_odometer()\n",
    "my_new_car_2 = Car('audi','a4',2016) \n",
    "my_new_car_2.read_odometer()"
   ]
  },
  {
   "cell_type": "code",
   "execution_count": 3,
   "metadata": {},
   "outputs": [
    {
     "name": "stdout",
     "output_type": "stream",
     "text": [
      "This car has 20 miles on it.\n",
      "This car has 40 miles on it.\n"
     ]
    }
   ],
   "source": [
    "# Modifying an attribute's value through a method -- See method update_odometer()\n",
    "# Incrementing an attribute's value through a method -- See method increment_odometer()\n",
    "\n",
    "class Car():\n",
    "    \n",
    "    def __init__(self, make, model, year):\n",
    "        self.make = make\n",
    "        self.model = model\n",
    "        self.year = year\n",
    "        self.odometer_reading = 0\n",
    "    \n",
    "    def get_descriptive_name(self):\n",
    "        long_name = str(self.year)+\" \"+self.make+\" \"+self.model\n",
    "        \n",
    "        return long_name.title()\n",
    "\n",
    "    def read_odometer(self):\n",
    "        print(\"This car has \"+str(self.odometer_reading)+\" miles on it.\")\n",
    "        \n",
    "    def update_odometer(self, mileage):\n",
    "        \n",
    "        if mileage >=self.odometer_reading:\n",
    "            self.odometer_reading = mileage\n",
    "        else:\n",
    "            print(\"You can't roll back an odometer!\")\n",
    "    \n",
    "    def increment_odometer(self, miles):\n",
    "        \n",
    "        self.odometer_reading += miles\n",
    "\n",
    "my_new_car = Car('audi','a4',2016)  \n",
    "my_new_car.update_odometer(20)\n",
    "my_new_car.read_odometer()\n",
    "my_new_car.increment_odometer(20)\n",
    "my_new_car.read_odometer()"
   ]
  },
  {
   "cell_type": "markdown",
   "metadata": {},
   "source": [
    "# Inheritance\n",
    "\n",
    "1. If the class you're writing is a specialized version of another class you wrote, you can use inheritance\n",
    "2. The original class is called the parent class, and the new class is the child class. \n",
    "3. The child class inherits every attribute and method from its parent class but is also free to define new attributes and methods of its own. "
   ]
  },
  {
   "cell_type": "markdown",
   "metadata": {},
   "source": [
    "# The __init__() method for a child class\n",
    "\n",
    "1. The __init__() method for a child class\n",
    "    a. The first task Python has when creating an instance from a child class is to assign values to all attributes in the parent class\n",
    "\n",
    "2. Defining attributes and methods for the child class\n",
    "\n",
    "3. Overriding methods from the parent classes\n",
    "   a. You can define a method in the child class with the same name as the method you want to override in the parent class\n",
    "   b. Python will disregard the parent class method and only pay attention to the method that you define in the child class. \n",
    "\n",
    "4. Instances as attributes"
   ]
  },
  {
   "cell_type": "code",
   "execution_count": 18,
   "metadata": {},
   "outputs": [
    {
     "name": "stdout",
     "output_type": "stream",
     "text": [
      "2016 Tesla Model S\n"
     ]
    }
   ],
   "source": [
    "class ElectricCar(Car):  #1. Parent class must be defined before child class\n",
    "                        # 2. The name of the parent class must be included in parentheses in the definition of the child class.\n",
    "    \n",
    "    def __init__(self, make, model, year):\n",
    "        super().__init__(make, model, year)  # the super() function tells Python to call the __init__() method from the \n",
    "                                             # parent class\n",
    "                                            # which gives the child class instance all the attributes of its parent class. \n",
    "                                            # The name super comes from a convention of calling the parent class \n",
    "                                            # a superclass and the child class a subclass\n",
    "\n",
    "my_tesla = ElectricCar('tesla','model S',2016)\n",
    "print(my_tesla.get_descriptive_name())"
   ]
  },
  {
   "cell_type": "code",
   "execution_count": 20,
   "metadata": {},
   "outputs": [
    {
     "name": "stdout",
     "output_type": "stream",
     "text": [
      "2016 Tesla Model S\n",
      "This car has a 70 -KWh battery.\n"
     ]
    }
   ],
   "source": [
    "# Defining attributes and methods for the child class\n",
    "\n",
    "class ElectricCar(Car):  \n",
    "    \n",
    "    def __init__(self, make, model, year):\n",
    "        super().__init__(make, model, year)  \n",
    "        self.battery_size = 70\n",
    "    \n",
    "    def describe_battery(self):\n",
    "        print(\"This car has a \"+str(self.battery_size)+\" -KWh battery.\")\n",
    "\n",
    "my_tesla = ElectricCar('tesla','model S',2016)\n",
    "print(my_tesla.get_descriptive_name())\n",
    "my_tesla.describe_battery()"
   ]
  },
  {
   "cell_type": "code",
   "execution_count": 7,
   "metadata": {},
   "outputs": [
    {
     "name": "stdout",
     "output_type": "stream",
     "text": [
      "2016 Tesla Model S\n",
      "This car has a 70 -KWh battery.\n",
      "This car can go approximately 240 miles on a full range\n"
     ]
    }
   ],
   "source": [
    "# Instances as attributes\n",
    "# If we continue adding attributes and methods specific to the car's battery. \n",
    "# Then we can stop and move those attributes and methods to a seperate class called Battery. \n",
    "# Then we can use a Battery instance as an attribute in the ElectricCar class\n",
    "\n",
    "class Battery():\n",
    "    \n",
    "    def __init__(self, battery_size = 70):\n",
    "        self.battery_size = battery_size\n",
    "    \n",
    "    def describe_battery(self):\n",
    "        print(\"This car has a \"+str(self.battery_size)+\" -KWh battery.\")\n",
    "        \n",
    "    def get_range(self):\n",
    "        \n",
    "        if self.battery_size == 70:\n",
    "            range = 240\n",
    "        elif self.battery_size == 85:\n",
    "            range = 270\n",
    "        \n",
    "        message = \"This car can go approximately \" +str(range)\n",
    "        message += \" miles on a full range\"\n",
    "        print(message)\n",
    "\n",
    "class ElectricCar(Car):\n",
    "    \n",
    "    def __init__(self, make, model, year):\n",
    "        super().__init__(make, model, year)\n",
    "        self.battery = Battery()\n",
    "\n",
    "my_tesla = ElectricCar('tesla','model S',2016)\n",
    "print(my_tesla.get_descriptive_name())\n",
    "my_tesla.battery.describe_battery()\n",
    "my_tesla.battery.get_range()\n",
    "\n"
   ]
  },
  {
   "cell_type": "markdown",
   "metadata": {},
   "source": [
    "# Importing Classes\n",
    "\n",
    "1. Importing a single class\n",
    "\n",
    "2. Importing multiple classes from a module\n",
    "\n",
    "3. Importing all classes from a module --> from module_name import * --> This method is not recommended.\n"
   ]
  },
  {
   "cell_type": "code",
   "execution_count": 9,
   "metadata": {},
   "outputs": [
    {
     "name": "stdout",
     "output_type": "stream",
     "text": [
      "2016 Tesla Modle S\n",
      "This car has a 70 -KWh battery.\n",
      "This car can go approximately 240 miles on a full range\n"
     ]
    }
   ],
   "source": [
    "# Importing a single class\n",
    "\n",
    "from car import ElectricCar # car is the module file name. ElectricCar is the class name\n",
    "\n",
    "my_tesla = ElectricCar('tesla','modle s',2016)\n",
    "\n",
    "print(my_tesla.get_descriptive_name())\n",
    "my_tesla.battery.describe_battery()\n",
    "my_tesla.battery.get_range()"
   ]
  },
  {
   "cell_type": "code",
   "execution_count": 17,
   "metadata": {},
   "outputs": [
    {
     "name": "stdout",
     "output_type": "stream",
     "text": [
      "2016 Volkswagen Beetle\n",
      "2016 Tesla Modle S\n",
      "This car has a 70 -KWh battery.\n"
     ]
    }
   ],
   "source": [
    "# Importing multiple classes from a module\n",
    "\n",
    "from car import ElectricCar, Car\n",
    "\n",
    "my_beetle = Car('volkswagen','beetle',2016)\n",
    "print(my_beetle.get_descriptive_name())\n",
    "\n",
    "my_tesla = ElectricCar('tesla','modle s',2016)\n",
    "print(my_tesla.get_descriptive_name())\n",
    "my_tesla.battery.describe_battery()"
   ]
  },
  {
   "cell_type": "code",
   "execution_count": null,
   "metadata": {},
   "outputs": [],
   "source": []
  }
 ],
 "metadata": {
  "kernelspec": {
   "display_name": "Python 3",
   "language": "python",
   "name": "python3"
  },
  "language_info": {
   "codemirror_mode": {
    "name": "ipython",
    "version": 3
   },
   "file_extension": ".py",
   "mimetype": "text/x-python",
   "name": "python",
   "nbconvert_exporter": "python",
   "pygments_lexer": "ipython3",
   "version": "3.7.4"
  }
 },
 "nbformat": 4,
 "nbformat_minor": 2
}
