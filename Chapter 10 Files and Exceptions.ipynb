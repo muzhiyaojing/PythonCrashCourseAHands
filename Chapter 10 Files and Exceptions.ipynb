{
 "cells": [
  {
   "cell_type": "markdown",
   "metadata": {},
   "source": [
    "# Reading from a file \n",
    "\n",
    "1. Reading an entire file\n",
    "   step 1: Open the file to access it - using open() function - This function need one argument, the file name you want to open.<br>\n",
    "   Step 2: open() function returns an object representing the file.<br>\n",
    "           we don't need to use the close() function, since python will close the file automatically when the time is right.<br>\n",
    "   Step 3: use the read() method to read the entire contents for the file and store it as one long **string**\n",
    "\n",
    "2. The only difference btween the output and original file the is the extra blank line at the end of the ouptut. The blank line appears because read() returns an empty string when it reaches the end of the file.\n",
    "\n",
    "3. Use rstrip() function to remove the blank line\n",
    "\n",
    "4. File paths\n",
    "    a. Different operation system uses different way to show file path<br>\n",
    "    b. Linux and OS XS uses forward slash(/), windows system uses backslash (\\) <br>\n",
    "    c. absolute file path: tell Python exactly where the file is on your computer regardless of where the program that's being executed is stored\n",
    "   \n",
    "5. Reading line by line\n",
    "\n",
    "6. Making a list of lines from a file"
   ]
  },
  {
   "cell_type": "code",
   "execution_count": 7,
   "metadata": {},
   "outputs": [
    {
     "name": "stdout",
     "output_type": "stream",
     "text": [
      "3.1415926535 \n",
      "  8979323846 \n",
      "  2643383279\n",
      "3.1415926535 \n",
      "  8979323846 \n",
      "  2643383279\n"
     ]
    }
   ],
   "source": [
    "# Reading an entire file\n",
    "\n",
    "with open('pi_digits.txt') as file_object: #open the pi_digits file and store it in an object called file_object\n",
    "    contents = file_object.read()\n",
    "    print(contents) # Weird -- didn't see the blank line at the end\n",
    "    print(contents.rstrip())"
   ]
  },
  {
   "cell_type": "code",
   "execution_count": 13,
   "metadata": {},
   "outputs": [
    {
     "name": "stdout",
     "output_type": "stream",
     "text": [
      "3.1415926535 \n",
      "  8979323846 \n",
      "  2643383279\n"
     ]
    }
   ],
   "source": [
    "# File paths\n",
    "# Without r in front of the file path, it will throw errors:\n",
    "# 'unicodeescape' codec can't decode bytes in position 2-3: truncated \\UXXXXXXXX escape\n",
    "# There are three ways to resolve the problem: \n",
    "# Way1 : with open(r'C:\\Users\\nanwa\\Documents\\pi_digits.txt')\n",
    "# Way2: with open('C:\\\\Users\\\\nanwa\\\\Documents\\\\pi_digits.txt') \n",
    "# Way3: with open('C:/Users/nanwa/Documents/pi_digits.txt')\n",
    "\n",
    "\n",
    "with open('C:/Users/nanwa/Documents/pi_digits.txt') as test:\n",
    "    contest = test.read()\n",
    "    print(contest)"
   ]
  },
  {
   "cell_type": "code",
   "execution_count": 14,
   "metadata": {},
   "outputs": [
    {
     "name": "stdout",
     "output_type": "stream",
     "text": [
      "3.1415926535 \n",
      "\n",
      "  8979323846 \n",
      "\n",
      "  2643383279\n"
     ]
    }
   ],
   "source": [
    "# Reading line by line\n",
    "# The blank lines appear becuase an invisible newline character is at the end of each line in the text file. \n",
    "\n",
    "filename = 'C:/Users/nanwa/Documents/pi_digits.txt'\n",
    "\n",
    "with open(filename) as file_object:\n",
    "    for line in file_object:\n",
    "        print(line)"
   ]
  },
  {
   "cell_type": "code",
   "execution_count": 3,
   "metadata": {},
   "outputs": [
    {
     "name": "stdout",
     "output_type": "stream",
     "text": [
      "['3.1415926535 \\n', '  8979323846 \\n', '  2643383279']\n",
      "3.1415926535 \n",
      "\n",
      "  8979323846 \n",
      "\n",
      "  2643383279\n"
     ]
    }
   ],
   "source": [
    "#Making a list of lines from a file\n",
    "\n",
    "filename = 'pi_digits.txt'\n",
    "\n",
    "# When you use \"with\", the file object returned by open() is only available inside the with block that contains it. \n",
    "# If you want to retain access to a file's contents outside the with block, you can store the file's lines in a list inside \n",
    "# block and then work with that list.\n",
    "\n",
    "# readlines() method takes each line from the file and stores it in a list. \n",
    "\n",
    "with open(filename) as file_object:\n",
    "    lines = file_object.readlines()  \n",
    "\n",
    "print(lines)\n",
    "\n",
    "for line in lines:\n",
    "    print(line)"
   ]
  },
  {
   "cell_type": "code",
   "execution_count": 7,
   "metadata": {},
   "outputs": [
    {
     "name": "stdout",
     "output_type": "stream",
     "text": [
      "['3.1415926535 \\n', '  8979323846 \\n', '  2643383279']\n",
      "3.141592653589793238462643383279\n"
     ]
    }
   ],
   "source": [
    "# Working with a file's contents\n",
    "\n",
    "filename = 'pi_digits.txt'\n",
    "\n",
    "with open(filename) as file_object:\n",
    "    lines = file_object.readlines()\n",
    "\n",
    "print(lines)\n",
    "pi_string = ''\n",
    "\n",
    "for line in lines: \n",
    "    pi_string += line.strip()\n",
    "\n",
    "print(pi_string)\n"
   ]
  },
  {
   "cell_type": "code",
   "execution_count": 9,
   "metadata": {},
   "outputs": [
    {
     "name": "stdout",
     "output_type": "stream",
     "text": [
      "1000002\n"
     ]
    }
   ],
   "source": [
    "# Large Files: One Million Digits\n",
    "\n",
    "filename = 'pi_million_digits.txt'\n",
    "\n",
    "with open(filename) as file_object:\n",
    "    lines = file_object.readlines()\n",
    "\n",
    "# print(lines)\n",
    "pi_string = ''\n",
    "\n",
    "for line in lines: \n",
    "    pi_string += line.strip()\n",
    "\n",
    "print(len(pi_string)) \n",
    "\n",
    "#Python has no inherent limit to how much data you can work with; you can work with as much data \n",
    "# as your system's memory can handle"
   ]
  },
  {
   "cell_type": "code",
   "execution_count": 11,
   "metadata": {},
   "outputs": [
    {
     "name": "stdout",
     "output_type": "stream",
     "text": [
      "Enter your birthday, in the form mmddyy: 070589\n",
      "Your birthday 070589 doesn't appear in the first million digits of pi!\n"
     ]
    }
   ],
   "source": [
    "# Is your birthday contained in Pi? \n",
    "filename = 'pi_million_digits.txt'\n",
    "\n",
    "with open(filename) as file_object:\n",
    "    lines = file_object.readlines()\n",
    "\n",
    "# print(lines)\n",
    "pi_string = ''\n",
    "\n",
    "for line in lines: \n",
    "    pi_string += line.strip()\n",
    "\n",
    "birthday = input(\"Enter your birthday, in the form mmddyy: \")\n",
    "if birthday in pi_string:\n",
    "    print(\"Your birthday \"+birthday+\" appears in the first million digits of pi!\")\n",
    "else:\n",
    "    print(\"Your birthday \"+birthday+\" doesn't appear in the first million digits of pi!\")\n"
   ]
  },
  {
   "cell_type": "code",
   "execution_count": null,
   "metadata": {},
   "outputs": [],
   "source": [
    "# Writing to an Empty File\n",
    "\n",
    "file = "
   ]
  }
 ],
 "metadata": {
  "kernelspec": {
   "display_name": "Python 3",
   "language": "python",
   "name": "python3"
  },
  "language_info": {
   "codemirror_mode": {
    "name": "ipython",
    "version": 3
   },
   "file_extension": ".py",
   "mimetype": "text/x-python",
   "name": "python",
   "nbconvert_exporter": "python",
   "pygments_lexer": "ipython3",
   "version": "3.7.4"
  }
 },
 "nbformat": 4,
 "nbformat_minor": 2
}
