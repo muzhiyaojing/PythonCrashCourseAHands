{
 "cells": [
  {
   "cell_type": "markdown",
   "metadata": {},
   "source": [
    "### List\n",
    "1. What is a list? -- a collection of item in a particular order\n",
    "2. Square brackets [] indicate a list, and individual elements in the list are separated by commas\n",
    "3. Access elements in a list using index. Index starts from 0.\n",
    "4. You can use the string method when you access a string element. \n",
    "5. Use negative index to access the element from the end. "
   ]
  },
  {
   "cell_type": "code",
   "execution_count": 2,
   "metadata": {},
   "outputs": [
    {
     "name": "stdout",
     "output_type": "stream",
     "text": [
      "trek\n",
      "Trek\n",
      "specialized\n",
      "My first bicycle was a trek .\n"
     ]
    }
   ],
   "source": [
    "bicycles = ['trek','cannondale','redline','specialized']\n",
    "print(bicycles[0])\n",
    "print(bicycles[0].title())\n",
    "print(bicycles[-1])\n",
    "message = \"My first bicycle was a \"+bicycles[0]+\" .\"\n",
    "print(message)"
   ]
  },
  {
   "cell_type": "code",
   "execution_count": 6,
   "metadata": {},
   "outputs": [
    {
     "name": "stdout",
     "output_type": "stream",
     "text": [
      "How are you? Xian Li\n",
      "How are you? Lu Deng\n",
      "How are you? Qianxi\n",
      "I would like to own a Audi car.\n",
      "I would like to own a BMW car.\n",
      "I would like to own a Land Rover car.\n"
     ]
    }
   ],
   "source": [
    "# Try it yourself\n",
    "# 3-1 Names\n",
    "# 3-2 Greeting\n",
    "friends = ['Xian Li','Lu Deng','Qianxi']\n",
    "for friend in friends:\n",
    "    message = \"How are you? \"+ friend\n",
    "    print(message)\n",
    "\n",
    "# 3-3 Your Own List\n",
    "carBrands = ['Audi','BMW','Land Rover']\n",
    "for car in carBrands:\n",
    "    message = \"I would like to own a \"+car+\" car.\"\n",
    "    print(message)"
   ]
  },
  {
   "cell_type": "markdown",
   "metadata": {},
   "source": [
    "### Changing, Adding, and Removing Elements\n",
    "\n",
    "#### Change the value of an item\n",
    "1. Use index to change an item value\n",
    "\n",
    "#### Add elements\n",
    "2. **append()** - Use append() method to append a new item at the end of the list\n",
    "3. You can create a new empty list, then use append() to add elements into the list. \n",
    "4. **insert()** - Use insert() to insert a item at the a certain position of the list\n",
    "\n",
    "#### Delete elements\n",
    "5. **del statement** - Remove an item from any position using del **statement** and specifying its index\n",
    "6. You can no longer access the value that was removed from the list after the del statement is used\n",
    "7. **pop()** - Remove the last item in a list using pop() method withing adding parameter, you can store the removed items in a variable\n",
    "8. Remove a item from a certain position using pop() method and specifying index\n",
    "9. **remove()** - if you don't know the position of the item, but you know the value of it, then you can use remove() method\n",
    "10. The remove() method deletes only the first occurance of the value you specify. If there is a a possibility that the value appears more than once in the list, then you will need to use a loop to determine if all occurrences of the value need to be removed. "
   ]
  },
  {
   "cell_type": "code",
   "execution_count": 1,
   "metadata": {},
   "outputs": [
    {
     "name": "stdout",
     "output_type": "stream",
     "text": [
      "['honda', 'yamaha', 'suzuki']\n",
      "['ducati', 'yamaha', 'suzuki']\n"
     ]
    }
   ],
   "source": [
    "# Change the value of an item\n",
    "motorcycles = ['honda','yamaha','suzuki']\n",
    "print(motorcycles)\n",
    "\n",
    "motorcycles[0] = 'ducati'\n",
    "print(motorcycles)"
   ]
  },
  {
   "cell_type": "code",
   "execution_count": 3,
   "metadata": {},
   "outputs": [
    {
     "name": "stdout",
     "output_type": "stream",
     "text": [
      "['honda', 'yamaha', 'suzuki']\n",
      "['honda', 'yamaha', 'suzuki', 'ducati']\n",
      "['test', 'honda', 'yamaha', 'suzuki', 'ducati']\n"
     ]
    }
   ],
   "source": [
    "# Adding elements to a list\n",
    "motorcycles = ['honda','yamaha','suzuki']\n",
    "print(motorcycles)\n",
    "\n",
    "motorcycles.append('ducati')\n",
    "print(motorcycles)\n",
    "\n",
    "motorcycles.insert(0,'test')\n",
    "print(motorcycles)\n",
    "\n"
   ]
  },
  {
   "cell_type": "code",
   "execution_count": 9,
   "metadata": {},
   "outputs": [
    {
     "name": "stdout",
     "output_type": "stream",
     "text": [
      "['honda', 'yamaha', 'suzuki']\n",
      "['yamaha', 'suzuki']\n",
      "suzuki\n",
      "['yamaha']\n",
      "yamaha\n"
     ]
    }
   ],
   "source": [
    "# Remove elements from a list by index\n",
    "motorcycles = ['honda','yamaha','suzuki']\n",
    "print(motorcycles)\n",
    "\n",
    "# test = del motorcycles[0] -- You can not store the del statement result into a variable\n",
    "del motorcycles[0]\n",
    "print(motorcycles)\n",
    "\n",
    "popped_motorcycles = motorcycles.pop()\n",
    "print(popped_motorcycles)\n",
    "print(motorcycles)\n",
    "\n",
    "motorcycles = ['honda','yamaha','suzuki']\n",
    "print(motorcycles.pop(1))"
   ]
  },
  {
   "cell_type": "code",
   "execution_count": 15,
   "metadata": {},
   "outputs": [
    {
     "name": "stdout",
     "output_type": "stream",
     "text": [
      "['honda', 'yamaha', 'suzuki']\n",
      "['honda', 'yamaha']\n",
      "2\n"
     ]
    }
   ],
   "source": [
    "# Remove elements from a list by value\n",
    "motorcycles = ['honda','yamaha','suzuki']\n",
    "print(motorcycles)\n",
    "\n",
    "too_expensive = 'suzuki'\n",
    "motorcycles.remove(too_expensive)\n",
    "print(motorcycles)\n",
    "print(len(motorcycles))"
   ]
  },
  {
   "cell_type": "code",
   "execution_count": 13,
   "metadata": {},
   "outputs": [
    {
     "name": "stdout",
     "output_type": "stream",
     "text": [
      "Hi Xian Li, do you want to come to my house for dinner?\n",
      "Hi Lun Deng, do you want to come to my house for dinner?\n",
      "Hi Qianxi, do you want to come to my house for dinner?\n",
      "Qianxi cannot make it because he has a conflict event.\n",
      "Hi Xian Li, do you want to come to my house for dinner?\n",
      "Hi Lun Deng, do you want to come to my house for dinner?\n",
      "Hi Teng Shen, do you want to come to my house for dinner?\n",
      "Hi Xian Li, I just found a larger table so I can invite more people over\n",
      "Hi Lun Deng, I just found a larger table so I can invite more people over\n",
      "Hi Teng Shen, I just found a larger table so I can invite more people over\n",
      "['Ling Jia', 'Xian Li', 'Quan Yuan', 'Lun Deng', 'Teng Shen', 'Fei Wang']\n"
     ]
    }
   ],
   "source": [
    "# Try it yourself\n",
    "# 3-4 Guest List\n",
    "guest_list = ['Xian Li','Lun Deng','Qianxi']\n",
    "for guest in guest_list:\n",
    "    print('Hi '+guest+', do you want to come to my house for dinner?')\n",
    "\n",
    "#3-5 Changing guest list\n",
    "Cannot_Make = 'Qianxi'\n",
    "print(Cannot_Make+' cannot make it because he has a conflict event.')\n",
    "\n",
    "guest_list[2] = 'Teng Shen'\n",
    "for guest in guest_list:\n",
    "    print('Hi '+guest+', do you want to come to my house for dinner?')\n",
    "    \n",
    "# 3-6 More Guests\n",
    "for guest in guest_list:\n",
    "    print('Hi '+guest+', I just found a larger table so I can invite more people over')\n",
    "guest_list.insert(0,'Ling Jia')\n",
    "guest_list.insert(2,'Quan Yuan')\n",
    "guest_list.append('Fei Wang')\n",
    "print(guest_list)\n",
    "\n",
    "# 3-7 Shrinking Guest List\n",
    "for guest in guest_list:\n",
    "    print('Hi '+guest+', I am sorry to inform you that I can only invite two people over')\n",
    "\n",
    "while len(guest_list) >2:\n",
    "    pop_guest = guest_list\n",
    "\n"
   ]
  },
  {
   "cell_type": "code",
   "execution_count": 22,
   "metadata": {
    "scrolled": true
   },
   "outputs": [
    {
     "name": "stdout",
     "output_type": "stream",
     "text": [
      "Hi Ling Jia, I am sorry to inform you that I can only invite two people over\n",
      "Hi Xian Li, I am sorry to inform you that I can only invite two people over\n",
      "Hi Quan Yuan, I am sorry to inform you that I can only invite two people over\n",
      "Hi Lun Deng, I am sorry to inform you that I can only invite two people over\n",
      "Hi Teng Shen, I am sorry to inform you that I can only invite two people over\n",
      "Hi Fei Wang, I am sorry to inform you that I can only invite two people over\n",
      "Hi Fei Wang, sorry you are out\n",
      "Hi Teng Shen, sorry you are out\n",
      "Hi Lun Deng, sorry you are out\n",
      "Hi Quan Yuan, sorry you are out\n",
      "['Ling Jia', 'Xian Li']\n",
      "Hi Ling Jia, no worry, you are still invited\n",
      "Hi Xian Li, no worry, you are still invited\n",
      "['Ling Jia']\n",
      "[]\n"
     ]
    }
   ],
   "source": [
    "# 3-7 Shrinking Guest List\n",
    "guest_list = ['Ling Jia', 'Xian Li', 'Quan Yuan', 'Lun Deng', 'Teng Shen', 'Fei Wang']\n",
    "\n",
    "for guest in guest_list:\n",
    "    print('Hi '+guest+', I am sorry to inform you that I can only invite two people over')\n",
    "\n",
    "i = len(guest_list)\n",
    "while i >2:\n",
    "    pop_guest = guest_list.pop()\n",
    "    print('Hi '+pop_guest+', sorry you are out')\n",
    "    i = len(guest_list)\n",
    "\n",
    "    \n",
    "print(guest_list)\n",
    "for guest in guest_list:\n",
    "    print('Hi '+guest+', no worry, you are still invited')\n",
    "\n",
    "i = len(guest_list)\n",
    "while i !=0:\n",
    "    del guest_list[i-1]\n",
    "    print(guest_list)\n",
    "    i = len(guest_list)"
   ]
  },
  {
   "cell_type": "markdown",
   "metadata": {},
   "source": [
    "### Organizing a list\n",
    "\n",
    "1. sort() method -- This will change the order of the list permanently, you can not get back the orginal list\n",
    "2. sort() method -- python is case sensitive, mixed case order is complicated\n",
    "3. sort(reserve=True) method--sort the list in descending order\n",
    "4. sorted() function -- let you display your list in a particular order but doesn't affect the original list.\n",
    "5. reverse() method -- reverse the original order(not sort) and permanently change the list, but you can revert to the original order anytime by applying reverse() to the same list a second time.\n",
    "6. len() function -- find the length of a list"
   ]
  },
  {
   "cell_type": "code",
   "execution_count": 24,
   "metadata": {},
   "outputs": [
    {
     "name": "stdout",
     "output_type": "stream",
     "text": [
      "['audi', 'bmw', 'subaru', 'toyota']\n",
      "['toyota', 'subaru', 'bmw', 'audi']\n",
      "['bmw', 'audi', 'toyota', 'subaru']\n",
      "['audi', 'bmw', 'subaru', 'toyota']\n",
      "['subaru', 'toyota', 'audi', 'bmw']\n",
      "4\n"
     ]
    }
   ],
   "source": [
    "# Sort a list permanently\n",
    "cars = ['bmw','audi','toyota','subaru']\n",
    "cars.sort()\n",
    "print(cars)\n",
    "cars.sort(reverse = True)\n",
    "print(cars)\n",
    "\n",
    "# Sort a list temporarily\n",
    "# not sorted() is a function\n",
    "cars = ['bmw','audi','toyota','subaru']\n",
    "sorted(cars)\n",
    "print(cars)\n",
    "print(sorted(cars))\n",
    "\n",
    "# reverse a list\n",
    "cars.reverse()\n",
    "print(cars)\n",
    "\n",
    "# check the length of a list\n",
    "print(len(cars))"
   ]
  },
  {
   "cell_type": "code",
   "execution_count": null,
   "metadata": {},
   "outputs": [],
   "source": []
  }
 ],
 "metadata": {
  "kernelspec": {
   "display_name": "Python 3",
   "language": "python",
   "name": "python3"
  },
  "language_info": {
   "codemirror_mode": {
    "name": "ipython",
    "version": 3
   },
   "file_extension": ".py",
   "mimetype": "text/x-python",
   "name": "python",
   "nbconvert_exporter": "python",
   "pygments_lexer": "ipython3",
   "version": "3.7.4"
  }
 },
 "nbformat": 4,
 "nbformat_minor": 2
}
