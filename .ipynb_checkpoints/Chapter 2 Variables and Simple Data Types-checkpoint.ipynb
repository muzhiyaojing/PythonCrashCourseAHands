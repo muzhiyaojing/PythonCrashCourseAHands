{
 "cells": [
  {
   "cell_type": "code",
   "execution_count": 1,
   "metadata": {},
   "outputs": [
    {
     "name": "stdout",
     "output_type": "stream",
     "text": [
      "Hello World\n"
     ]
    }
   ],
   "source": [
    "print(\"Hello World\")"
   ]
  },
  {
   "cell_type": "markdown",
   "metadata": {},
   "source": [
    "### Variable Naming Rules\n",
    "\n",
    "1. Can only contain letter, numbers and underscores\n",
    "2. Space is not allowed\n",
    "3. Can only start with either letter or underscore\n",
    "4. Avoid using Python keyword\n",
    "5. Variable name should be descriptive\n",
    "6. IMPORTANT: Python is case sensitive"
   ]
  },
  {
   "cell_type": "markdown",
   "metadata": {},
   "source": [
    "### String\n",
    "\n",
    "1. Use either single quote or double quotes for string\n",
    "2. You can include single quote within double quotes or double quotes within single quotes\n",
    "3. Changes case in a String \n",
    "4. Combine or concatenating strings\n",
    "5. Adding whitespace to strings with tabs or newlines\n",
    "6. Stripping whitespace\n",
    "7. Avoiding syntax errors with strings - sytax error occurs when Python doesn't recognize a section ofyour program as valid python code\n"
   ]
  },
  {
   "cell_type": "code",
   "execution_count": 6,
   "metadata": {},
   "outputs": [
    {
     "name": "stdout",
     "output_type": "stream",
     "text": [
      "Ada Lovelace\n",
      "ada lovelace\n",
      "Ada Lovelace\n",
      "ADA LOVELACE\n",
      "ada lovelace\n",
      "Ada Lovelace\n"
     ]
    }
   ],
   "source": [
    "# changes case in string\n",
    "name = 'ada lovelace'\n",
    "\n",
    "# method title() displays each word in titlecase, where each word begins with a captital letter\n",
    "print(name.title()) \n",
    "\n",
    "#Notice:title()doesn't change the original string,if you want to change it, you have to store it back to the variable\n",
    "print(name) \n",
    "name = name.title()\n",
    "print(name)\n",
    "\n",
    "# upper() change a string to all uppercase\n",
    "# lower() change a string to all lowercase\n",
    "# Also, same as title(), upper() and lower() won't change the original string\n",
    "print(name.upper())\n",
    "print(name.lower())\n",
    "print(name)"
   ]
  },
  {
   "cell_type": "code",
   "execution_count": 9,
   "metadata": {},
   "outputs": [
    {
     "name": "stdout",
     "output_type": "stream",
     "text": [
      "ada loverlace\n",
      "Hello, Ada Loverlace!\n"
     ]
    }
   ],
   "source": [
    "#Combine or concatenating string\n",
    "firstname = 'ada'\n",
    "lastname = 'loverlace'\n",
    "fullname = firstname +\" \"+lastname\n",
    "print(fullname)\n",
    "message = \"Hello, \"+fullname.title()+\"!\"\n",
    "print(message)"
   ]
  },
  {
   "cell_type": "code",
   "execution_count": 11,
   "metadata": {},
   "outputs": [
    {
     "name": "stdout",
     "output_type": "stream",
     "text": [
      "python\n",
      "\tpython\n",
      "python\t\n",
      "Languages:\n",
      "Python\n",
      "C\n",
      "JavaScript\n"
     ]
    }
   ],
   "source": [
    "#Adding white space to strings with tabs or newlines\n",
    "# whitespaces refers to any nonprinting character, such as spaces, tabs, and end-of-line symbols\n",
    "# Use '\\t' to add a tab --- Note: it is back slash, and put it before the word that you want to add the tab\n",
    "print(\"python\")\n",
    "print(\"\\tpython\")\n",
    "print(\"python\\t\")\n",
    "# Use '\\n' to add a newline in a string\n",
    "print(\"Languages:\\nPython\\nC\\nJavaScript\")\n"
   ]
  },
  {
   "cell_type": "code",
   "execution_count": 12,
   "metadata": {},
   "outputs": [
    {
     "name": "stdout",
     "output_type": "stream",
     "text": [
      " python\n",
      "python \n",
      "python\n"
     ]
    }
   ],
   "source": [
    "#stripping whitespace\n",
    "#rstrip() to remove the right whitespace\n",
    "#lstrip() to remove the left whitespace\n",
    "#strip() to remove the whitespace\n",
    "favorite_language = ' python '\n",
    "print(favorite_language.rstrip())\n",
    "print(favorite_language.lstrip())\n",
    "print(favorite_language.strip())"
   ]
  },
  {
   "cell_type": "code",
   "execution_count": 15,
   "metadata": {},
   "outputs": [
    {
     "name": "stdout",
     "output_type": "stream",
     "text": [
      "Hello Eric Jiang, would you like to learn some Python today?\n",
      "Eric Jiang\n",
      "ERIC JIANG\n",
      "eric jiang\n",
      "\tAlbert Einstein once said, \"A person who never made a \t\n",
      "mistake never tried anythig new.\"\n",
      "The greatest glory in living lies not in never falling, but in rising every time we fall.---Nelson Mandela\n",
      " \tTest\n",
      "Testone\n",
      "Test\n",
      "Testone \n",
      "Test\n",
      "Testone\n"
     ]
    }
   ],
   "source": [
    "#Try it yourself\n",
    "#2-3 Personal Message\n",
    "name = 'Eric Jiang'\n",
    "print(\"Hello \"+name+\", would you like to learn some Python today?\")\n",
    "\n",
    "#2-4 Name Case\n",
    "print(name.title())\n",
    "print(name.upper())\n",
    "print(name.lower())\n",
    "\n",
    "#2-5 Famous Quote\n",
    "print('\\tAlbert Einstein once said, \"A person who never made a \\t\\nmistake never tried anythig new.\"')\n",
    "\n",
    "#2-6 Famour Quote 2\n",
    "famous_person = 'Nelson Mandela'\n",
    "message = \"The greatest glory in living lies not in never falling, but in rising every time we fall.\"+\"---\"+famous_person\n",
    "print(message)\n",
    "\n",
    "#2-7 Stripping Names\n",
    "# It is intersting to see that strip() method can remove the tab, but not new line\n",
    "person = ' \\tTest\\nTestone '\n",
    "print(person.rstrip())\n",
    "print(person.lstrip())\n",
    "print(person.strip())\n",
    "\n"
   ]
  },
  {
   "cell_type": "markdown",
   "metadata": {},
   "source": [
    "### Numbers\n",
    "\n",
    "1. Interger operation: +,-,*,/,**\n",
    "2. The spacing around the operators has no effect. \n",
    "3. Float --- number with a decimal point\n",
    "4. Be aware that you can sometimes get an arbitrary number of decimal places in your answer\n",
    "5. Convert int to string need explicitly conversion, otherwise a type error will occur"
   ]
  },
  {
   "cell_type": "code",
   "execution_count": 19,
   "metadata": {},
   "outputs": [
    {
     "name": "stdout",
     "output_type": "stream",
     "text": [
      "5\n",
      "1\n",
      "6\n",
      "1.5\n",
      "8\n"
     ]
    }
   ],
   "source": [
    "print(2+3)\n",
    "print(3-2)\n",
    "print(2*3)\n",
    "print(3/2)\n",
    "print(2**3)"
   ]
  },
  {
   "cell_type": "code",
   "execution_count": 23,
   "metadata": {},
   "outputs": [
    {
     "name": "stdout",
     "output_type": "stream",
     "text": [
      "0.30000000000000004\n",
      "0.30000000000000004\n",
      "0.2\n"
     ]
    }
   ],
   "source": [
    "print(0.2 + 0.1)\n",
    "print(3*0.1)\n",
    "print(0.1 + 0.1)"
   ]
  },
  {
   "cell_type": "code",
   "execution_count": 25,
   "metadata": {},
   "outputs": [
    {
     "name": "stdout",
     "output_type": "stream",
     "text": [
      "Happy 23rd Birthday!\n"
     ]
    }
   ],
   "source": [
    "age = 23\n",
    "print(\"Happy \"+str(age)+\"rd Birthday!\")"
   ]
  },
  {
   "cell_type": "code",
   "execution_count": 28,
   "metadata": {},
   "outputs": [
    {
     "name": "stdout",
     "output_type": "stream",
     "text": [
      "8\n",
      "8\n",
      "8\n",
      "8\n",
      "8\n",
      "My favorite number is 8\n"
     ]
    }
   ],
   "source": [
    "#Try it yourself\n",
    "#2-8 Number Eight\n",
    "print(5+3)\n",
    "print(10-2)\n",
    "print(2*4)\n",
    "\n",
    "#In Python 3, every division gives back a float whether you start with ints or floats\n",
    "print(int(16/2))\n",
    "print(2**3)\n",
    "\n",
    "#2-9 Favorite Number\n",
    "favorite_number = 8\n",
    "print(\"My favorite number is \"+str(favorite_number))"
   ]
  },
  {
   "cell_type": "code",
   "execution_count": null,
   "metadata": {},
   "outputs": [],
   "source": []
  }
 ],
 "metadata": {
  "kernelspec": {
   "display_name": "Python 3",
   "language": "python",
   "name": "python3"
  },
  "language_info": {
   "codemirror_mode": {
    "name": "ipython",
    "version": 3
   },
   "file_extension": ".py",
   "mimetype": "text/x-python",
   "name": "python",
   "nbconvert_exporter": "python",
   "pygments_lexer": "ipython3",
   "version": "3.7.4"
  }
 },
 "nbformat": 4,
 "nbformat_minor": 2
}
