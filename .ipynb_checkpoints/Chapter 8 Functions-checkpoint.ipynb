{
 "cells": [
  {
   "cell_type": "markdown",
   "metadata": {},
   "source": [
    "# Function \n",
    "\n",
    "1. Definition: A block of code that are designed to do one specific job. So if you need to perform this task multiple tasks, you don't need to repeat writing the code, but call the function. \n",
    "2. Define a function\n",
    "3. Passing information to a function"
   ]
  },
  {
   "cell_type": "code",
   "execution_count": 1,
   "metadata": {},
   "outputs": [
    {
     "name": "stdout",
     "output_type": "stream",
     "text": [
      "Hello! How are you? \n"
     ]
    }
   ],
   "source": [
    "# Define a function\n",
    "\n",
    "def greet_user():\n",
    "    \n",
    "    print(\"Hello! How are you? \")\n",
    "    \n",
    "greet_user()"
   ]
  },
  {
   "cell_type": "code",
   "execution_count": 2,
   "metadata": {},
   "outputs": [
    {
     "name": "stdout",
     "output_type": "stream",
     "text": [
      "Hello, Jesse!\n"
     ]
    }
   ],
   "source": [
    "#Passing Information to a function\n",
    "\n",
    "def greet_user(user_name): # user_name is called parameter\n",
    "    \n",
    "    print(\"Hello, \"+user_name.title()+\"!\")\n",
    "\n",
    "greet_user(\"Jesse\") # Jesse is argument"
   ]
  },
  {
   "cell_type": "markdown",
   "metadata": {},
   "source": [
    "# Passing Arguments\n",
    "\n",
    "1. A function can have multiple parameters, so you may pass multiple arguments to a function. You can pass arguments to your functions in a number of ways\n",
    "2. positional arguments -- the arguments should be in the same order as the parameters. The order is very important.\n",
    "3. keyword arguments -- each argument consists of a variable name and a value"
   ]
  },
  {
   "cell_type": "code",
   "execution_count": 4,
   "metadata": {},
   "outputs": [
    {
     "name": "stdout",
     "output_type": "stream",
     "text": [
      "\n",
      "I have a hamster.\n",
      "My hamster's name is Harry\n",
      "\n",
      "I have a dog.\n",
      "My dog's name is Willie\n"
     ]
    }
   ],
   "source": [
    "# positional arguments\n",
    "\n",
    "def describe_pet(animal_type, pet_name):\n",
    "    print(\"\\nI have a \"+animal_type+\".\")\n",
    "    print(\"My \"+animal_type+\"'s name is \"+pet_name.title())\n",
    "\n",
    "describe_pet('hamster','harry')\n",
    "describe_pet('dog','willie')"
   ]
  },
  {
   "cell_type": "code",
   "execution_count": 5,
   "metadata": {},
   "outputs": [
    {
     "name": "stdout",
     "output_type": "stream",
     "text": [
      "\n",
      "I have a hamster.\n",
      "My hamster's name is Harry\n",
      "\n",
      "I have a hamster.\n",
      "My hamster's name is Harry\n"
     ]
    }
   ],
   "source": [
    "# Keywords argument -- a name-value pair that you pass a function.]\n",
    "# When you use the keywords argument then the order doesn't matter.\n",
    "\n",
    "def describe_pet(animal_type, pet_name):\n",
    "    print(\"\\nI have a \"+animal_type+\".\")\n",
    "    print(\"My \"+animal_type+\"'s name is \"+pet_name.title())\n",
    "\n",
    "\n",
    "describe_pet(animal_type = 'hamster',pet_name ='harry')\n",
    "describe_pet(pet_name ='harry',animal_type = 'hamster')\n"
   ]
  },
  {
   "cell_type": "code",
   "execution_count": 6,
   "metadata": {},
   "outputs": [
    {
     "name": "stdout",
     "output_type": "stream",
     "text": [
      "\n",
      "I have a dog.\n",
      "My dog's name is Willie\n"
     ]
    }
   ],
   "source": [
    "# Default values\n",
    "\n",
    "# You can define a default value for a parameter. If an argument for a paramter is provided in the function call\n",
    "# , Python uses the argument value. If not, it uses the parameter's default value\n",
    "\n",
    "# When you use default values, any parameter with a default value needs to be listed after all the parameters \n",
    "# that don't have default values. This allows Python to continue interpreting positional arguments correctly. \n",
    "\n",
    "def describe_pet(pet_name,animal_type='dog'):\n",
    "    print(\"\\nI have a \"+animal_type+\".\")\n",
    "    print(\"My \"+animal_type+\"'s name is \"+pet_name.title())\n",
    "\n",
    "describe_pet('willie')"
   ]
  },
  {
   "cell_type": "markdown",
   "metadata": {},
   "source": [
    "# Return Values\n",
    "1. Return a simple value\n",
    "2. Making an argument optional -- You can use the default values to make an argument optional.\n",
    "3. Returning a dictionary -- A function can return any kind of value, including complicated data structures like lists and dictionaries. \n",
    "4. Using a function with a while loop"
   ]
  },
  {
   "cell_type": "code",
   "execution_count": 8,
   "metadata": {},
   "outputs": [
    {
     "name": "stdout",
     "output_type": "stream",
     "text": [
      "Jimi Hendrix\n"
     ]
    }
   ],
   "source": [
    "# Returning a simple value\n",
    "\n",
    "def get_formatted_name(first_name, last_name):\n",
    "    full_name = first_name+\" \"+last_name\n",
    "    return full_name.title()\n",
    "\n",
    "# funtion return a value, then you can assign the return value to a variable for future use. \n",
    "# If the function doesn't have the print statement, then when you call the function, it won't print anything\n",
    "# You need to assign the value to a variable, then print the variable to see the function result. \n",
    "\n",
    "musician = get_formatted_name('jimi','hendrix')\n",
    "print(musician)"
   ]
  },
  {
   "cell_type": "code",
   "execution_count": 9,
   "metadata": {},
   "outputs": [
    {
     "name": "stdout",
     "output_type": "stream",
     "text": [
      "Jimi Hendrix\n",
      "John Lee Hooker\n"
     ]
    }
   ],
   "source": [
    "# Making an argument optional \n",
    "\n",
    "def get_formatted_name(first_name, last_name, middle_name=''):\n",
    "    \n",
    "    if middle_name: # Python interprets non-empty string as True\n",
    "        full_name = first_name+ \" \" +middle_name+\" \"+last_name\n",
    "    else:\n",
    "        full_name = first_name+ \" \"+last_name\n",
    "    return full_name.title()\n",
    "\n",
    "musician = get_formatted_name('jimi','hendrix')\n",
    "print(musician)\n",
    "\n",
    "musician = get_formatted_name('john','hooker','lee')\n",
    "print(musician)"
   ]
  },
  {
   "cell_type": "code",
   "execution_count": 7,
   "metadata": {},
   "outputs": [
    {
     "name": "stdout",
     "output_type": "stream",
     "text": [
      "{'firstname': 'Lun', 'lastname': 'Deng', 'age': 10}\n"
     ]
    }
   ],
   "source": [
    "# Returning a dictionary\n",
    "\n",
    "\n",
    "def build_person(first_name, last_name,age = 10):\n",
    "    \n",
    "    person = {'firstname':first_name, 'lastname':last_name, 'age':age}\n",
    "    return person\n",
    "\n",
    "musician = build_person('Lun','Deng',10)\n",
    "print(musician)"
   ]
  },
  {
   "cell_type": "code",
   "execution_count": 6,
   "metadata": {},
   "outputs": [
    {
     "name": "stdout",
     "output_type": "stream",
     "text": [
      "{'firstname': 'Lun', 'lastname': 'Deng'}\n"
     ]
    }
   ],
   "source": [
    "def build_person(first_name, last_name,age = ''):\n",
    "    \n",
    "    person = {'firstname':first_name, 'lastname':last_name}\n",
    "    if age:\n",
    "        person['age'] = age\n",
    "        \n",
    "    return person\n",
    "\n",
    "musician = build_person('Lun','Deng')\n",
    "print(musician)"
   ]
  },
  {
   "cell_type": "code",
   "execution_count": 1,
   "metadata": {},
   "outputs": [
    {
     "name": "stdout",
     "output_type": "stream",
     "text": [
      "Please tell me your name:\n",
      "enter \"q\" to quit at any time.\n",
      "Please enter your first name:ken\n",
      "Please enter your last name:q\n"
     ]
    }
   ],
   "source": [
    "# Using a Function with a while loop\n",
    "\n",
    "def get_formatted_name(first_name, last_name):\n",
    "    full_name = first_name +' '+last_name\n",
    "    return full_name\n",
    "\n",
    "while True:\n",
    "    \n",
    "    print('Please tell me your name:')\n",
    "    print('enter \"q\" to quit at any time.')\n",
    "    \n",
    "    firstname = input(\"Please enter your first name:\")\n",
    "    if firstname =='q':\n",
    "        break;\n",
    "        \n",
    "    lastname = input(\"Please enter your last name:\")\n",
    "    if lastname == 'q':\n",
    "        break; \n",
    "    \n",
    "    formatted_name = get_formatted_name(firstname, lastname)\n",
    "    \n",
    "    print('\\nHello, '+formatted_name+\"!\")"
   ]
  },
  {
   "cell_type": "code",
   "execution_count": 2,
   "metadata": {},
   "outputs": [
    {
     "name": "stdout",
     "output_type": "stream",
     "text": [
      "Ann Arbor USA\n",
      "Changsha China\n",
      "Sydney Austrilia\n"
     ]
    }
   ],
   "source": [
    "#Try it yourself\n",
    "\n",
    "# 8-6 City Names:\n",
    "\n",
    "def city_country(city, country):\n",
    "    city_country = city+\" \"+country\n",
    "    return city_country\n",
    "\n",
    "a = city_country('Ann Arbor','USA')\n",
    "print(a)\n",
    "\n",
    "b = city_country('Changsha','China')\n",
    "print(b)\n",
    "\n",
    "c = city_country('Sydney','Austrilia')\n",
    "print(c)"
   ]
  },
  {
   "cell_type": "markdown",
   "metadata": {},
   "source": [
    "# Passing a List\n",
    "\n",
    "### 1. Modifying a list in a funtion"
   ]
  },
  {
   "cell_type": "code",
   "execution_count": 3,
   "metadata": {},
   "outputs": [
    {
     "name": "stdout",
     "output_type": "stream",
     "text": [
      "Hello Hannah!\n",
      "Hello Ty!\n",
      "Hello Margot!\n"
     ]
    }
   ],
   "source": [
    "def greet_users(names):\n",
    "    for name in names:\n",
    "        msg = \"Hello \"+name.title()+\"!\"\n",
    "        print(msg)\n",
    "\n",
    "userNames = ['hannah','ty','margot']\n",
    "greet_users(userNames)"
   ]
  },
  {
   "cell_type": "code",
   "execution_count": 3,
   "metadata": {},
   "outputs": [
    {
     "name": "stdout",
     "output_type": "stream",
     "text": [
      "Printing model: dodecahedron\n",
      "Printing model: robot pendant\n",
      "Printing model: iphone case\n",
      "\n",
      "The following models have been printed:\n",
      "dodecahedron\n",
      "robot pendant\n",
      "iphone case\n"
     ]
    }
   ],
   "source": [
    "unprinted_designs = ['iphone case','robot pendant','dodecahedron']\n",
    "completed_designs = []\n",
    "\n",
    "while unprinted_designs:\n",
    "    current_design = unprinted_designs.pop()\n",
    "    print(\"Printing model: \"+current_design)\n",
    "    completed_designs.append(current_design)\n",
    "\n",
    "# Display all completed models\n",
    "print(\"\\nThe following models have been printed:\")\n",
    "for completed_design in completed_designs:\n",
    "    print(completed_design)"
   ]
  },
  {
   "cell_type": "code",
   "execution_count": 6,
   "metadata": {},
   "outputs": [
    {
     "name": "stdout",
     "output_type": "stream",
     "text": [
      "Printing model: dodecahedron\n",
      "Printing model: robot pendant\n",
      "Printing model: iphone case\n",
      "\n",
      "The following models have been printed: \n",
      "dodecahedron\n",
      "robot pendant\n",
      "iphone case\n",
      "[]\n"
     ]
    }
   ],
   "source": [
    "def print_models(unprinted_designs, completed_models):\n",
    "    \n",
    "    while unprinted_designs:\n",
    "        current_model = unprinted_designs.pop()\n",
    "        print(\"Printing model: \"+current_model)\n",
    "        completed_models.append(current_model)\n",
    "\n",
    "def show_completed_models(completed_models):\n",
    "    print(\"\\nThe following models have been printed: \")\n",
    "    for completed_model in completed_models:\n",
    "        print(completed_model)\n",
    "        \n",
    "unprinted_designs = ['iphone case','robot pendant','dodecahedron']\n",
    "completed_designs = []\n",
    "\n",
    "print_models(unprinted_designs,completed_designs)\n",
    "show_completed_models(completed_designs)\n",
    "print(unprinted_designs)"
   ]
  },
  {
   "cell_type": "markdown",
   "metadata": {},
   "source": [
    "## 2. Preventing a Function from Modifying a List\n",
    "\n",
    "a. In the example above, you are manipulating the original list. The original list is empty after calling the print_models() function. If you want to reserve the original list, you can pass the function a copy of list instead of the list itself. Then any changes the function makes to the lists will affect only the copy, leaving the original list intact. \n",
    "\n",
    "b. You should pass the original list to functions unless you have a specific reason to pass a copy. It is more efficient for a function to work with an existing list to avoid using the time and memory needed to make a seperate copy, especially you're working with large lists."
   ]
  },
  {
   "cell_type": "code",
   "execution_count": 8,
   "metadata": {},
   "outputs": [
    {
     "name": "stdout",
     "output_type": "stream",
     "text": [
      "Printing model: dodecahedron\n",
      "Printing model: robot pendant\n",
      "Printing model: iphone case\n",
      "\n",
      "The following models have been printed: \n",
      "dodecahedron\n",
      "robot pendant\n",
      "iphone case\n",
      "['iphone case', 'robot pendant', 'dodecahedron']\n"
     ]
    }
   ],
   "source": [
    "def print_models(unprinted_designs, completed_models):\n",
    "    \n",
    "    while unprinted_designs:\n",
    "        current_model = unprinted_designs.pop()\n",
    "        print(\"Printing model: \"+current_model)\n",
    "        completed_models.append(current_model)\n",
    "\n",
    "def show_completed_models(completed_models):\n",
    "    print(\"\\nThe following models have been printed: \")\n",
    "    for completed_model in completed_models:\n",
    "        print(completed_model)\n",
    "        \n",
    "unprinted_designs = ['iphone case','robot pendant','dodecahedron']\n",
    "completed_designs = []\n",
    "\n",
    "print_models(unprinted_designs[:],completed_designs)\n",
    "show_completed_models(completed_designs)\n",
    "print(unprinted_designs)"
   ]
  },
  {
   "cell_type": "markdown",
   "metadata": {},
   "source": [
    "# Passing an Arbitrary Number of Arguments\n",
    "\n",
    "1. Use this when you don't know how many arguments a function needs to accept. The asterisk in the parameter name *toppings tell Python to make an empty tuple called toppings and pack whatever values it receives into this tuple\n",
    "\n",
    "2. Mixing positional and arbitrary arguments<br>\n",
    "If you want a function to accept several different kinds of arguments, the parameter that accepts an arbitrary number of arguments must be placed last in the function definition. Python matches positional and keyword arguments first and then collects any remaining arguments in the final parameter.\n",
    "\n",
    "3. Using arbitrary keyword arguments<br>\n",
    "a. you don't know what kind of information will be passed to the function.<br>\n",
    "b. **user_info causes python to create an empty dictionary called user_info and pack whatever name_value pairs it receives into this dictionary"
   ]
  },
  {
   "cell_type": "code",
   "execution_count": 9,
   "metadata": {},
   "outputs": [
    {
     "name": "stdout",
     "output_type": "stream",
     "text": [
      "('pepperoni',)\n",
      "('mushrooms', 'green peppers', 'extra cheese')\n"
     ]
    }
   ],
   "source": [
    "def make_pizza(*toppings):\n",
    "    \n",
    "    print(toppings)\n",
    "    \n",
    "make_pizza('pepperoni')\n",
    "make_pizza('mushrooms','green peppers','extra cheese')"
   ]
  },
  {
   "cell_type": "code",
   "execution_count": 12,
   "metadata": {},
   "outputs": [
    {
     "name": "stdout",
     "output_type": "stream",
     "text": [
      "\n",
      "Making a pizza with the following toppings:\n",
      "-pepperoni\n",
      "\n",
      "Making a pizza with the following toppings:\n",
      "-mushrooms\n",
      "-green peppers\n",
      "-extra cheese\n"
     ]
    }
   ],
   "source": [
    "def make_pizza(*toppings):\n",
    "    print(\"\\nMaking a pizza with the following toppings:\")\n",
    "    for topping in toppings:\n",
    "        print(\"-\"+ topping)\n",
    "\n",
    "make_pizza('pepperoni')\n",
    "make_pizza('mushrooms','green peppers','extra cheese')"
   ]
  },
  {
   "cell_type": "code",
   "execution_count": 13,
   "metadata": {},
   "outputs": [
    {
     "name": "stdout",
     "output_type": "stream",
     "text": [
      "\n",
      "Making a 12-inch pizza with the following toppings：\n",
      "-pepperoni\n",
      "\n",
      "Making a 16-inch pizza with the following toppings：\n",
      "-mushrooms\n",
      "-green peppers\n",
      "-extra cheese\n"
     ]
    }
   ],
   "source": [
    "#2 Mixing positional and arbitrary arguments\n",
    "\n",
    "def make_pizza(size, *toppings):\n",
    "    \n",
    "    print(\"\\nMaking a \"+str(size)+\"-inch pizza with the following toppings：\")\n",
    "    for topping in toppings:\n",
    "        print(\"-\"+topping)\n",
    "\n",
    "make_pizza(12, 'pepperoni')\n",
    "make_pizza(16, 'mushrooms','green peppers','extra cheese')"
   ]
  },
  {
   "cell_type": "code",
   "execution_count": 14,
   "metadata": {},
   "outputs": [
    {
     "name": "stdout",
     "output_type": "stream",
     "text": [
      "{'first_name': 'albert', 'last_name': 'einstein', 'location': 'princeton', 'field': 'physics'}\n"
     ]
    }
   ],
   "source": [
    "# 3. Using arbitrary keyword arguments\n",
    "\n",
    "def build_profile(first, last, **user_info):\n",
    "    \n",
    "    profile = {}\n",
    "    profile['first_name'] = first\n",
    "    profile['last_name'] = last\n",
    "    for key, value in user_info.items():\n",
    "        profile[key] = value\n",
    "    return profile\n",
    "\n",
    "user_profile = build_profile('albert','einstein', location = 'princeton', field = 'physics')\n",
    "print(user_profile)"
   ]
  },
  {
   "cell_type": "markdown",
   "metadata": {},
   "source": [
    "# Storing Your Functions in Modules\n",
    "\n",
    "1. Storing your function in a seperate file called a module and then import that module into your main program.\n",
    "2. This will allow you to reuse the funtion in many different programs. \n",
    "3. To call a function from an imported module, enter the name of the module you imported, and then followed by the name of function, separated by a dot. \n",
    "4. Importing specific functions <br>\n",
    "   a. from module_name import function_name <br>\n",
    "   b. With this syntax, you don't need to use the dot notation when you call a function.<br>\n",
    "5. Using as to give a function an alias\n",
    "6. Using as to give a module an alias\n",
    "7. Importing all functions in a module <br>\n",
    "   a. You don't need to use dot notation.<br>\n",
    "   b. It is better not use this syntax, cause it may cause confusion"
   ]
  },
  {
   "cell_type": "code",
   "execution_count": 22,
   "metadata": {},
   "outputs": [],
   "source": [
    "import make_pizza as pizza"
   ]
  },
  {
   "cell_type": "code",
   "execution_count": 23,
   "metadata": {},
   "outputs": [
    {
     "name": "stdout",
     "output_type": "stream",
     "text": [
      "\n",
      "Making a 12-inch pizza with the following toppings: \n",
      "- mushrooms\n",
      "- green peppers\n",
      "- extra cheese\n"
     ]
    }
   ],
   "source": [
    "pizza.make_pizza(12,'mushrooms','green peppers','extra cheese') "
   ]
  },
  {
   "cell_type": "code",
   "execution_count": 24,
   "metadata": {},
   "outputs": [
    {
     "name": "stdout",
     "output_type": "stream",
     "text": [
      "\n",
      "Making a 12-inch pizza with the following toppings: \n",
      "- mushrooms\n",
      "- green peppers\n",
      "- extra cheese\n"
     ]
    }
   ],
   "source": [
    "# Importing Specific Functions\n",
    "\n",
    "from make_pizza import make_pizza\n",
    "\n",
    "make_pizza(12,'mushrooms','green peppers','extra cheese')"
   ]
  },
  {
   "cell_type": "code",
   "execution_count": 25,
   "metadata": {},
   "outputs": [
    {
     "name": "stdout",
     "output_type": "stream",
     "text": [
      "\n",
      "Making a 12-inch pizza with the following toppings: \n",
      "- mushrooms\n",
      "- green peppers\n",
      "- extra cheese\n"
     ]
    }
   ],
   "source": [
    "# Using as to give function on Alias \n",
    "\n",
    "from make_pizza import make_pizza as mp\n",
    "\n",
    "mp(12,'mushrooms','green peppers','extra cheese')"
   ]
  },
  {
   "cell_type": "code",
   "execution_count": 26,
   "metadata": {},
   "outputs": [
    {
     "name": "stdout",
     "output_type": "stream",
     "text": [
      "\n",
      "Making a 12-inch pizza with the following toppings: \n",
      "- mushrooms\n",
      "- green peppers\n",
      "- extra cheese\n"
     ]
    }
   ],
   "source": [
    "# Using as to give module an alias\n",
    "\n",
    "import make_pizza as p\n",
    "\n",
    "p.make_pizza(12,'mushrooms','green peppers','extra cheese')"
   ]
  },
  {
   "cell_type": "code",
   "execution_count": 27,
   "metadata": {},
   "outputs": [
    {
     "name": "stdout",
     "output_type": "stream",
     "text": [
      "\n",
      "Making a 12-inch pizza with the following toppings: \n",
      "- mushrooms\n",
      "- green peppers\n",
      "- extra cheese\n"
     ]
    }
   ],
   "source": [
    "# Importing all functions in a module\n",
    "\n",
    "from make_pizza import *\n",
    "\n",
    "make_pizza(12,'mushrooms','green peppers','extra cheese')"
   ]
  },
  {
   "cell_type": "code",
   "execution_count": null,
   "metadata": {},
   "outputs": [],
   "source": []
  }
 ],
 "metadata": {
  "kernelspec": {
   "display_name": "Python 3",
   "language": "python",
   "name": "python3"
  },
  "language_info": {
   "codemirror_mode": {
    "name": "ipython",
    "version": 3
   },
   "file_extension": ".py",
   "mimetype": "text/x-python",
   "name": "python",
   "nbconvert_exporter": "python",
   "pygments_lexer": "ipython3",
   "version": "3.7.4"
  }
 },
 "nbformat": 4,
 "nbformat_minor": 2
}
